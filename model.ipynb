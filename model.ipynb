{
 "cells": [
  {
   "cell_type": "code",
   "execution_count": 1,
   "id": "68ece020-51e9-493a-ace7-ef8294e1fd05",
   "metadata": {
    "tags": []
   },
   "outputs": [],
   "source": [
    "## importing dependencies\n",
    "import numpy as np\n",
    "import pandas as pd\n",
    "import os\n",
    "import string\n",
    "import re\n",
    "import random\n",
    "from nltk.tokenize import word_tokenize\n",
    "from nltk.corpus import stopwords\n",
    "\n"
   ]
  },
  {
   "cell_type": "markdown",
   "id": "065dd2cd-a321-473e-920f-eb496a39a6ef",
   "metadata": {},
   "source": [
    "##### Reading the dataset i.e collection of stories of harry potter in text file."
   ]
  },
  {
   "cell_type": "code",
   "execution_count": 10,
   "id": "dfad7d4c-f2fe-407d-9773-e26b3c38b8bb",
   "metadata": {
    "tags": []
   },
   "outputs": [],
   "source": [
    "current_dir=os.getcwd()\n",
    "dataset_path=os.path.join(current_dir,\"dataset\")\n",
    "\n",
    "def read_content(dataset_path,encoding='utf-8'):\n",
    "    txt=[]\n",
    "    for _,_,files in os.walk(dataset_path):\n",
    "        for file in files:\n",
    "            file_path=os.path.join(dataset_path,file)\n",
    "            with open(file_path,encoding=encoding) as f:\n",
    "                for line in f:\n",
    "                    line=line.strip()\n",
    "                    if line == '----------':\n",
    "                        break\n",
    "                    if line != '':\n",
    "                        txt.append(line)\n",
    "                        \n",
    "    return txt\n",
    "                \n",
    "        "
   ]
  },
  {
   "cell_type": "code",
   "execution_count": 11,
   "id": "e4ccfa3a-dba5-409c-bfca-95961b2f74db",
   "metadata": {
    "tags": []
   },
   "outputs": [
    {
     "name": "stdout",
     "output_type": "stream",
     "text": [
      "Total number of lines:  123353\n"
     ]
    }
   ],
   "source": [
    "total_content_lines=read_content(dataset_path)\n",
    "print(\"Total number of lines: \",len(total_content_lines))"
   ]
  },
  {
   "cell_type": "markdown",
   "id": "bb407140-be72-44a4-a4ae-38b4f280a7de",
   "metadata": {},
   "source": [
    "##### Defining a func to process a text before using markov chain on it."
   ]
  },
  {
   "cell_type": "code",
   "execution_count": null,
   "id": "ea16c201-d1e5-4de2-bdf8-c50eb7fc2fb5",
   "metadata": {},
   "outputs": [],
   "source": []
  }
 ],
 "metadata": {
  "kernelspec": {
   "display_name": "Python 3 (ipykernel)",
   "language": "python",
   "name": "python3"
  },
  "language_info": {
   "codemirror_mode": {
    "name": "ipython",
    "version": 3
   },
   "file_extension": ".py",
   "mimetype": "text/x-python",
   "name": "python",
   "nbconvert_exporter": "python",
   "pygments_lexer": "ipython3",
   "version": "3.11.5"
  }
 },
 "nbformat": 4,
 "nbformat_minor": 5
}
