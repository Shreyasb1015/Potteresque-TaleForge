{
 "cells": [
  {
   "cell_type": "code",
   "execution_count": 1,
   "id": "68ece020-51e9-493a-ace7-ef8294e1fd05",
   "metadata": {
    "tags": []
   },
   "outputs": [],
   "source": [
    "## importing dependencies\n",
    "import numpy as np\n",
    "import pandas as pd\n",
    "import os\n",
    "import string\n",
    "import re\n",
    "import random\n",
    "from nltk.tokenize import word_tokenize\n",
    "from nltk.corpus import stopwords\n",
    "\n"
   ]
  },
  {
   "cell_type": "markdown",
   "id": "065dd2cd-a321-473e-920f-eb496a39a6ef",
   "metadata": {},
   "source": [
    "##### Reading the dataset i.e collection of stories of harry potter in text file."
   ]
  },
  {
   "cell_type": "code",
   "execution_count": null,
   "id": "dfad7d4c-f2fe-407d-9773-e26b3c38b8bb",
   "metadata": {},
   "outputs": [],
   "source": []
  }
 ],
 "metadata": {
  "kernelspec": {
   "display_name": "Python 3 (ipykernel)",
   "language": "python",
   "name": "python3"
  },
  "language_info": {
   "codemirror_mode": {
    "name": "ipython",
    "version": 3
   },
   "file_extension": ".py",
   "mimetype": "text/x-python",
   "name": "python",
   "nbconvert_exporter": "python",
   "pygments_lexer": "ipython3",
   "version": "3.11.5"
  }
 },
 "nbformat": 4,
 "nbformat_minor": 5
}
