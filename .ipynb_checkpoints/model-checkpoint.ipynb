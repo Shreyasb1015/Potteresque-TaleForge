{
 "cells": [
  {
   "cell_type": "code",
   "execution_count": 2,
   "id": "68ece020-51e9-493a-ace7-ef8294e1fd05",
   "metadata": {
    "tags": []
   },
   "outputs": [],
   "source": [
    "## importing dependencies\n",
    "import numpy as np\n",
    "import pandas as pd\n",
    "import os\n",
    "import string\n",
    "import re\n",
    "import random\n",
    "import nltk\n",
    "from nltk.tokenize import word_tokenize\n",
    "from nltk.corpus import stopwords\n",
    "\n"
   ]
  },
  {
   "cell_type": "code",
   "execution_count": 3,
   "id": "01e9c4c4-0555-4392-92bf-bd50efb10dab",
   "metadata": {
    "tags": []
   },
   "outputs": [
    {
     "name": "stderr",
     "output_type": "stream",
     "text": [
      "[nltk_data] Downloading package punkt to\n",
      "[nltk_data]     C:\\Users\\bagwe\\AppData\\Roaming\\nltk_data...\n",
      "[nltk_data]   Package punkt is already up-to-date!\n"
     ]
    },
    {
     "data": {
      "text/plain": [
       "True"
      ]
     },
     "execution_count": 3,
     "metadata": {},
     "output_type": "execute_result"
    }
   ],
   "source": [
    "nltk.download('punkt')"
   ]
  },
  {
   "cell_type": "markdown",
   "id": "065dd2cd-a321-473e-920f-eb496a39a6ef",
   "metadata": {},
   "source": [
    "##### Reading the dataset i.e collection of stories of harry potter in text file."
   ]
  },
  {
   "cell_type": "code",
   "execution_count": 4,
   "id": "dfad7d4c-f2fe-407d-9773-e26b3c38b8bb",
   "metadata": {
    "tags": []
   },
   "outputs": [],
   "source": [
    "current_dir=os.getcwd()\n",
    "dataset_path=os.path.join(current_dir,\"dataset\")\n",
    "\n",
    "def read_content(dataset_path,encoding='utf-8'):\n",
    "    txt=[]\n",
    "    for _,_,files in os.walk(dataset_path):\n",
    "        for file in files:\n",
    "            file_path=os.path.join(dataset_path,file)\n",
    "            with open(file_path,encoding=encoding) as f:\n",
    "                for line in f:\n",
    "                    line=line.strip()\n",
    "                    if line == '----------':\n",
    "                        break\n",
    "                    if line != '':\n",
    "                        txt.append(line)\n",
    "                        \n",
    "    return txt\n",
    "                \n",
    "        "
   ]
  },
  {
   "cell_type": "code",
   "execution_count": 5,
   "id": "e4ccfa3a-dba5-409c-bfca-95961b2f74db",
   "metadata": {
    "tags": []
   },
   "outputs": [
    {
     "name": "stdout",
     "output_type": "stream",
     "text": [
      "Total number of lines:  123353\n"
     ]
    }
   ],
   "source": [
    "total_content_lines=read_content(dataset_path)\n",
    "print(\"Total number of lines: \",len(total_content_lines))"
   ]
  },
  {
   "cell_type": "markdown",
   "id": "bb407140-be72-44a4-a4ae-38b4f280a7de",
   "metadata": {},
   "source": [
    "##### Defining a func to process a text before using markov chain on it."
   ]
  },
  {
   "cell_type": "code",
   "execution_count": 6,
   "id": "ea16c201-d1e5-4de2-bdf8-c50eb7fc2fb5",
   "metadata": {
    "tags": []
   },
   "outputs": [],
   "source": [
    "def process_text(txt):\n",
    "    processed_text=[]\n",
    "    for line in txt:\n",
    "        line=line.lower()\n",
    "        line = re.sub(r\"[,.\\\"\\'!@#$%^&*(){}?/;`~:<>+=-\\\\]\", \"\", line)   ## removing all the punctutaions.\n",
    "        words_list=word_tokenize(line)\n",
    "        words=[]\n",
    "        for word in words_list:\n",
    "            if word.isalpha():\n",
    "                words.append(word)\n",
    "        processed_text += words\n",
    "    return processed_text\n",
    "        \n",
    "        \n",
    "        "
   ]
  },
  {
   "cell_type": "code",
   "execution_count": 7,
   "id": "ee2d2f88-1d73-4dbb-8c75-7ded1f5c8ee4",
   "metadata": {
    "tags": []
   },
   "outputs": [
    {
     "name": "stdout",
     "output_type": "stream",
     "text": [
      "Total No of words:  1126958\n"
     ]
    }
   ],
   "source": [
    "words_list=process_text(total_content_lines)\n",
    "print(\"Total No of words: \",len(words_list))"
   ]
  },
  {
   "cell_type": "markdown",
   "id": "5cd9c4ec-378d-4df4-903f-2b3d23b1f66a",
   "metadata": {},
   "source": [
    "##### Creating markov model based on markov chain rule."
   ]
  },
  {
   "cell_type": "code",
   "execution_count": 8,
   "id": "0201403e-8e1e-41dd-b838-1ffff95cb6bb",
   "metadata": {
    "tags": []
   },
   "outputs": [],
   "source": [
    "def markov_model(words_list, order=2):\n",
    "    model = {}\n",
    "    for i in range(len(words_list) - order-1):\n",
    "        current_state = \"\"\n",
    "        next_state = \"\"\n",
    "        for j in range(order):\n",
    "            current_state += words_list[i + j] + \" \"\n",
    "            next_state += words_list[i + j + order] + \" \"\n",
    "        \n",
    "        current_state = current_state[:-1]\n",
    "        next_state = next_state[:-1]\n",
    "        \n",
    "        if current_state not in model:\n",
    "            model[current_state] = {}\n",
    "            model[current_state][next_state] = 1\n",
    "        else:\n",
    "            if next_state in model[current_state]:\n",
    "                model[current_state][next_state] += 1\n",
    "            else:\n",
    "                model[current_state][next_state] = 1\n",
    "    \n",
    "    for current_state, transition in model.items():\n",
    "        total = sum(transition.values())\n",
    "        for state, count in transition.items():\n",
    "            model[current_state][state] = count / total\n",
    "    \n",
    "    return model\n",
    "\n",
    "\n"
   ]
  },
  {
   "cell_type": "code",
   "execution_count": 9,
   "id": "f871f5f2-60a4-4edd-8fb4-8653fb6362ba",
   "metadata": {
    "tags": []
   },
   "outputs": [],
   "source": [
    "\n",
    "markov_chain = markov_model(words_list)"
   ]
  },
  {
   "cell_type": "code",
   "execution_count": 10,
   "id": "c40801d9-3fb7-4865-82aa-5ca1823cc906",
   "metadata": {
    "tags": []
   },
   "outputs": [
    {
     "name": "stdout",
     "output_type": "stream",
     "text": [
      "number of states =  323194\n"
     ]
    }
   ],
   "source": [
    "print(\"number of states = \", len(markov_chain.keys()))"
   ]
  },
  {
   "cell_type": "code",
   "execution_count": 11,
   "id": "65d53b16-ddde-4ce2-a14d-0e4a62bba383",
   "metadata": {
    "tags": []
   },
   "outputs": [
    {
     "name": "stdout",
     "output_type": "stream",
     "text": [
      "Combinations of words using  markov-chain relation\n",
      "{'when the': 0.03333333333333333, 'squinting about': 0.03333333333333333, 'but this': 0.03333333333333333, 'jerking and': 0.03333333333333333, 'ended in': 0.03333333333333333, 'before snape': 0.03333333333333333, 'like a': 0.03333333333333333, 'said you': 0.03333333333333333, 's over': 0.03333333333333333, 'was over': 0.03333333333333333, 'of chess': 0.03333333333333333, 'until he': 0.03333333333333333, 'the teams': 0.03333333333333333, 'and earned': 0.03333333333333333, 'he couldnt': 0.03333333333333333, 'out of': 0.03333333333333333, 'with malfoy': 0.03333333333333333, 'after a': 0.03333333333333333, 'was starting': 0.03333333333333333, 'recommenced immediately': 0.03333333333333333, 's in': 0.03333333333333333, 'quickly and': 0.03333333333333333, 'the following': 0.03333333333333333, 'is up': 0.03333333333333333, 'gone gryffindor': 0.03333333333333333, 'ginny where': 0.03333333333333333, 'was running': 0.03333333333333333, 'had become': 0.03333333333333333, 'was up': 0.03333333333333333, 'away however': 0.03333333333333333}\n"
     ]
    }
   ],
   "source": [
    "print(\"Combinations of words using  markov-chain relation\")\n",
    "print(markov_chain['the game'])"
   ]
  },
  {
   "cell_type": "code",
   "execution_count": 12,
   "id": "f756fdc8-005e-4e06-90c9-ff6c39ba0298",
   "metadata": {
    "tags": []
   },
   "outputs": [
    {
     "name": "stdout",
     "output_type": "stream",
     "text": [
      "Random 100 keys: ['burning sensation', 'decided last', 'too dudley', 'yehve had', 'every other', 'arts owl', 'were keeping', 'teenage dumbledore', 'them lately', 'arouses such', 'have searched', 'meanwhile felt', 'adventure and', 'would stay', 'hannah abbot', 'unsafe it', 'was attracting', 'punishment we', 'and good', 'quite true', 'surrounding seats', 'straight past', 'but youre', 'went they', 'overview of', 'them standing', 'without it', 'uncle you', 'representing the', 'against an', 'remember something', 'a stupid', 'heavy book', 'looking frightened', 'bossy that', 'rapid french', 'mulish expression', 'hall there', 'early birthday', 'you keep', 'mutilated true', 'card that', 'of rubeus', 'own school', 'this next', 'pints of', 'was curling', 'anything weird', 'malfoys roots', 'perce shouted', 'george turned', 'percy hoped', 'roar on', 'gazed longingly', 'landed noiselessly', 'were powerful', 's twisted', 'suppose not', 'ginny since', 'were even', 'address harry', 'salamanders got', 'said hasn', 'fact compared', 'others it', 'not felt', 'probably felt', 'd killed', 'sacked her', 'angel to', 'have absolutely', 'figure wearing', 'because wood', 'called mr', 'to potential', 'out everywhere', 'other tottering', 'which scuttled', 'extraordinary had', 'foot found', 'his pajama', 'egg down', 'borgin with', 'nature s', 'standing close', 'muttered under', 'practice no', 'now speeding', 'could buckbeak', 'united as', 'disbelieving face', 'go would', 'lupin drained', 'frank go', 'whistle rang', 'currently lay', 'laden trolleys', 'he tells', 'mr krum', 'disapparated now']\n"
     ]
    }
   ],
   "source": [
    "random_keys = random.sample(list(markov_chain.keys()), 100)\n",
    "print(\"Random 100 keys:\", random_keys)\n"
   ]
  },
  {
   "cell_type": "code",
   "execution_count": 13,
   "id": "ed163b00-d638-469a-b100-ca9f564531f8",
   "metadata": {
    "tags": []
   },
   "outputs": [],
   "source": [
    "def get_story(markov_model,limit=150,start=\"international magical\"):\n",
    "    count=0\n",
    "    current_state=start\n",
    "    next_state=None\n",
    "    gen_story=\"\"\n",
    "    gen_story += current_state + \" \"\n",
    "    while count < limit:\n",
    "        next_state=random.choices(list(markov_chain[current_state].keys()),\n",
    "                                    list(markov_chain[current_state].values()))\n",
    "        current_state = next_state[0]\n",
    "        gen_story += current_state + \" \"\n",
    "        count+=1\n",
    "    return gen_story\n",
    "    "
   ]
  },
  {
   "cell_type": "code",
   "execution_count": 14,
   "id": "434105ec-9b2b-4003-8d49-b5750689f583",
   "metadata": {
    "tags": []
   },
   "outputs": [
    {
     "name": "stdout",
     "output_type": "stream",
     "text": [
      "international magical cooperation don t mention that ter anyone at hogwarts s founders said dumbledore i sometimes find and i d still have old photographs maybe even letters she knew something harry could not possibly know how bad bertha s gotten lost from red to green faster than severus snape along the tunnel turning pettigrew in you re saying it aloud typically ten minutes later errol and hedwig s cage then turned into hermione s jug spraying them all with rather stupid then both hat and with a thud that could be the sun where they were forced to stop for minutes at a joke shop into the back of his head and retreating further from dumbledore if you ask for the best what is that it was clear that dudley was as vast quantities of what appeared to be in hogsmeade said ron at once and left the office one last sweeping look and then broke into song a thousand years or more of my year at hogwarts he reached the station there was a big supporter of he said what will they learn said uncle vernon from behind her tree seizing the cloak p a g e harry potter and the chamber of secrets jk rowling better go and warn the orchestra the orchestra ground back into action with the destruction of his wand on her chair but leapt up from the remnants of mist hung over the grounds around him were ron and hermione look at the bottom of the lake bringing it up full to the ground grinding his teeth and reached for his son s body the dementors buried him outside you know first holiday after they moved in yesterday afternoon and i don t you dare blame my husband said narcissa in a low voice well the other centaurs won t take owls till fifth year at hogwarts said weasley the inquisitor will have to give ireland new heart when i heard from my observations at first he had evidently forgotten in her desperation what griphook had told them about it last night when you know he s planning well firstly he wants to be minister of magic leaflet by owl about that just about to start and tried to rub it in oh don t know that said harry shaking his head and blinking hard trying to get rid of horcruxes said ron harry looked \n"
     ]
    }
   ],
   "source": [
    "print(get_story(markov_model,limit=200,start=\"international magical\"))"
   ]
  },
  {
   "cell_type": "code",
   "execution_count": 15,
   "id": "432a257d-f0e0-428c-becc-957267514be6",
   "metadata": {
    "tags": []
   },
   "outputs": [
    {
     "name": "stdout",
     "output_type": "stream",
     "text": [
      "harry breathed deeply for a few seats along harry saw the dragon s wings beating the water spears clutched in his fat legs would carry her pulling out his dream harry had just seen off the team but of course cried hermione pointing her wand at the quill whizzed across the parchment and scanning it closely that seems perfectly in order she said placidly to mr weasley and she broke off still wearing it i wouldn t put it in the far end of solid evidence that not one of the irritating things about ginny she d have thought you had enough to worry about said ron though was staring at him he had to stir feverishly it ll be able to break it up hagrid said loudly i know the theory exams in three days after they had arrived on what s happened cissy bellatrix lestrange walked slowly around at them all mrs weasley beamed down at him at the front me he said i don t you talk about him then no she replied and she too left chapter dumbledore happens to her in the corridors alone break a rule that says the other two followed him they kept teching in a shack up north the dark mark d on t tell hermione said very fast as he wheeled around in the rest of the team a bit of light connected the two wands harry could see nothing but the grades we got ask i don t think they re dangerous said ron well of course not said ron hermione and leanne let out a real shock dont mind hermione opened her hump heaved himself inside and slammed it shut it quickly to ron and hermione who looked just as it always made him look around riddle was a friend out for them by monday morning despite the flowery apron positively alarming i m trying to guess what creatures they were examining he thought for a moment extremely shocked help me harry said he really trusts snape even though he knew what lurked harry and luna squashed themselves in after them and ran for the door in her falsely sweet voice very again so deep into the rocky walls pulling something from the three brothers strain of not laughing mr lovegood hermione began again as i am with you p a g e harry potter and the chamber of secrets jk rowling opened her mouth to ask harry said fred we think the two balls of his feet who wants to be straightening the cushion pile he was away said ernie macmillan of hufflepuff wobbling in her hoop with her awake too myrtle jerked her head very slightly off his thestral onto the pavement lupin and the struggling ball in spidery writing was written on the platform what said ron hotly won t won t won t won t kreacher is showing a certain amount of earth on her nose is said harry could not suppress the question to which \n"
     ]
    }
   ],
   "source": [
    "print(get_story(markov_model,limit=250,start=\"harry breathed\"))"
   ]
  },
  {
   "cell_type": "code",
   "execution_count": 16,
   "id": "910c2889-810d-49e3-8691-86a48ed6fa44",
   "metadata": {
    "tags": []
   },
   "outputs": [
    {
     "name": "stdout",
     "output_type": "stream",
     "text": [
      "harry sickened by the ministry they didn t want to see ginny wincing frequently as neville moved too in one of the cardboard boxes and had agreed to try and bring a real dementor so professor trelawney seemed to have missed a muggle studies class but half of it rosmerta said fudge who looked truly awake fred and george ve left it had stopped twitching and professor lupin as the best in some people and the kwikspell envelope which harry glared at him then there was such a thing because said harry shaking the rope up to the death eaters and hogwartians alike and red and thereafter he reverted to his usual gusto bradley davies chang he said someone was going to be hell to pay for what he was pleased to welcome two new teachers to our cause your death will not bring it up saying whoops my wand you re sure they could not remember it well that as an apple and as the ring sailed within an inch of the room went icily cold and hard behind them that hagrid had given him a bit unfair professor dumbledore obviously thought he had it been legilimency did voldemort or his shadow or whatever it thinks will frighten us most couldnt have put lord voldemort himself voldemort might be aware of what the worst is yet to come yelled the knight bus skidded to a number of witnesses that there was this draft i woke up and rubbing his wrist there was an excellent quidditch player himself you re doing in a book called moste potente potions carefully and come to himself slightly in his mind s eye he nodded covertly to a halt right in front chapter of each of them holding his broomstick and set a snake on a nighttime visit and hermione alone said ron impatiently they know there are an awful scream drowned harry s head like an old tramp called gaunt and but it weren t but dementors in those misty eyes and that woman over there he was not your ostage chapter yeah i do not think a tingling sensation was spreading throughout him paralyzing his arms wide to protracted applause you know what we heard yesterday but the nasty impulse vanished as she let out a placatory hand toward him nothing he s gone home for christmas p a g e harry potter and the half blood prince jk rowling hermione giggled it s christmas and ginny never came back to him slipped a loop of rope around a large gulp of tea percy choked what sort of legend that it did not matter there was a rim of dazzling gold sunlight fell across george s plans had grown even more ambitious lately if they were bound to clear you weren t you said ron sharply what d you think information on this intriguing subject but i m so sorry don t do it in the pool unfolded hermione frowned at the far end \n"
     ]
    }
   ],
   "source": [
    "print(get_story(markov_model,limit=250,start=\"harry sickened\"))"
   ]
  },
  {
   "cell_type": "code",
   "execution_count": 25,
   "id": "1d8a28fa-4cca-4467-a12c-3cb32ff4baf9",
   "metadata": {},
   "outputs": [
    {
     "name": "stdout",
     "output_type": "stream",
     "text": [
      "Random 100 keys: ['i than', 'traveled in', 'husband arthur', 'marge he', 'secret chamber', 'on ruthlessly', 'extra powers', 'front nothing', 'had fallen', 'his beak', 'already heavily', 'mustn t', 'crouch binding', 'behind here', 'of earwax', 'who appeared', 'above dumbledore', 'voice growing', 'angry every', 'go potters', 'energy that', 'be socks', 'dark solid', 'round this', 'snorted in', 'accio and', 'lagging behind', 'the still', 'as celebrity', 'bath help', 'looked desperately', 'mcgonagall tartly', 'very large', 'stealing said', 'taken heat', 'lessons when', 'pursued the', 'half truculent', 'the easy', 'warmly at', 'challenges in', 'last finally', 'were possibly', 'and gained', 'conscious self', 'soo hungry', 'trees on', 'eaters i', 'a twinge', 'stone there', 'another girls', 'stone effigy', 'nice if', 'we this', 'half irritably', 'squad should', 'returned didn', 'the henhouse', 'assuming this', 'anything said', 'was processed', 'bounced onto', 'enormous silver', 'play before', 'bearing most', 'ter fight', 'a sample', 'seamus continued', 'cauldron well', 'a quidditch', 'window just', 'plates at', 'their dinner', 'shout the', 'asleep had', 'book a', 'time clearly', 'headmaster had', 'was icy', 'escaped he', 'disregarded this', 'without any', 'misses you', 'in when', 'greeting mr', 'white of', 'hidden objects', 'little cooperation', 'bertha harry', 'burbage the', 'want hagrid', 'stool and', 'the unusual', 'the pygmy', 'excited since', 'alongside harry', 'here grawp', 'nicely done', 'dunno when', 'breathlessly watching']\n"
     ]
    }
   ],
   "source": [
    "\n",
    "random_keys = random.sample(list(markov_chain.keys()), 100)\n",
    "print(\"Random 100 keys:\", random_keys)\n"
   ]
  },
  {
   "cell_type": "code",
   "execution_count": 34,
   "id": "3ef8afe9-eda1-4785-80e1-340e8a019399",
   "metadata": {
    "tags": []
   },
   "outputs": [],
   "source": [
    "def markov_model_2(words_list, order=6):\n",
    "    model = {}\n",
    "    for i in range(len(words_list) - order):\n",
    "        current_state = \" \".join(words_list[i:i+order])\n",
    "        next_state = words_list[i + order]\n",
    "        \n",
    "        if current_state not in model:\n",
    "            model[current_state] = {}\n",
    "            model[current_state][next_state] = 1\n",
    "        else:\n",
    "            if next_state in model[current_state]:\n",
    "                model[current_state][next_state] += 1\n",
    "            else:\n",
    "                model[current_state][next_state] = 1\n",
    "    \n",
    "    for current_state, transition in model.items():\n",
    "        total = sum(transition.values())\n",
    "        for state, count in transition.items():\n",
    "            model[current_state][state] = count / total\n",
    "    \n",
    "    return model\n"
   ]
  },
  {
   "cell_type": "code",
   "execution_count": 55,
   "id": "fb5ab458-db70-4e76-a6bd-da4eb5f073b5",
   "metadata": {
    "tags": []
   },
   "outputs": [],
   "source": [
    "def get_story_2(markov_model_2, limit=150, start=\"from the game jerking and twitching\"):\n",
    "    count = 0\n",
    "    current_state = \" \".join(start.split()[-6:])  # Initialize with the last 6 words of the start\n",
    "    gen_story = start + \" \"\n",
    "    \n",
    "    while count < limit:\n",
    "        next_state = random.choices(\n",
    "            list(markov_model_2[current_state].keys()),\n",
    "            list(markov_model_2[current_state].values())\n",
    "        )\n",
    "        current_state = \" \".join((current_state.split() + [next_state[0]])[-6:])\n",
    "        gen_story += next_state[0] + \" \"\n",
    "        count += 1\n",
    "\n",
    "    return gen_story\n"
   ]
  },
  {
   "cell_type": "code",
   "execution_count": 56,
   "id": "4875c13b-9e4b-48ab-8ad5-2e4f0924b54e",
   "metadata": {
    "tags": []
   },
   "outputs": [],
   "source": [
    "markov_model_6=markov_model_2(words_list)"
   ]
  },
  {
   "cell_type": "code",
   "execution_count": 73,
   "id": "8bea0e4c-e9e2-4b9f-b640-5b73cd946766",
   "metadata": {
    "tags": []
   },
   "outputs": [
    {
     "name": "stdout",
     "output_type": "stream",
     "text": [
      "Random 20 keys: ['whole village seemed to have turned', 'when they heard voices nearby someone', 'harry holding up a pasty go', 'to curl his hair more like', 'word broomsticks in his living room', 'time harry could not hear anything', 'softly as she strode between two', 'work out whether they believe he', 'stings burns embedded spines etc chapter', 'dobby anxiously jumping backward with his', 'he s gone missing like bertha', 'professor harry said his voice cracking', 'me i deserved it snapped ron', 'all the villagers cared about was', 'see him very much said dumbledore', 'the raised platform the moment she', 'what could it be a meeting', 'harry let us ask potter how', 't want to give her the', 'be so proud there was an']\n"
     ]
    }
   ],
   "source": [
    "\n",
    "random_keys = random.sample(list(markov_model_6.keys()), 20)\n",
    "print(\"Random 20 keys:\", random_keys)\n"
   ]
  },
  {
   "cell_type": "code",
   "execution_count": 67,
   "id": "052c608c-3d7a-4042-9093-c2a7dd5be83a",
   "metadata": {
    "tags": []
   },
   "outputs": [],
   "source": [
    "story=get_story_2(markov_model_6,limit=200,start='harry felt a sudden upsurge of')"
   ]
  },
  {
   "cell_type": "code",
   "execution_count": 68,
   "id": "5174d7d2-288e-496e-a80c-98140bbe9f2b",
   "metadata": {
    "tags": []
   },
   "outputs": [
    {
     "data": {
      "text/plain": [
       "'harry felt a sudden upsurge of affection for his godfather at least you ve known what s been going on he said bracingly oh yeah said sirius sarcastically listening to snape s reports having to take all his snide hints that he s out there risking his life while i m sat on my backside here having a nice comfortable time asking me how the cleaning s going what cleaning asked harry trying to make this place fit for human habitation said sirius waving a hand around the dismal kitchen no one s lived here for ten years not since my dear mother died unless you count her old and he s gone round the twist hasn t cleaned anything in ages sirius said mundungus who did not appear to have paid any attention to this conversation but had been minutely examining an empty goblet this solid silver mate yes said sirius surveying it with distaste finest fifteenthcentury silver embossed with the black family crest that d come off though muttered mundungus polishing it with his cuff fred george no just carry them mrs weasley shrieked harry sirius and mundungus looked around and a split second later dived away from the table fred and george had '"
      ]
     },
     "execution_count": 68,
     "metadata": {},
     "output_type": "execute_result"
    }
   ],
   "source": [
    "story"
   ]
  },
  {
   "cell_type": "code",
   "execution_count": 74,
   "id": "210c4b6a-38d4-4589-9c1f-c0cb85394152",
   "metadata": {
    "tags": []
   },
   "outputs": [
    {
     "name": "stdout",
     "output_type": "stream",
     "text": [
      "harry holding up a pasty go on you don t want this it s all dry said ron she hasn t got much time he added quickly you know with five of us go on have a pasty said harry who had never had anything to share before or indeed anyone to share it with it was a nice feeling sitting there with ron eating their way through all harry s pasties cakes and candies the sandwiches lay forgotten what are these harry asked ron holding up a pack of chocolate frogs they re not really frogs are they he was starting to feel that nothing would surprise him no said ron but see what the card is i m missing agrippa what oh of course you wouldn t know chocolate frogs have cards inside them you know to collect famous witches and wizards i ve got about five hundred but i haven t got agrippa or ptolemy harry unwrapped his chocolate frog and picked up the card it showed a man s face he wore glasses had a long crooked nose and flowing silver hair beard and mustache underneath the picture was the name albus dumbledore so this is dumbledore said harry don t tell \n"
     ]
    }
   ],
   "source": [
    "print(get_story_2(markov_model_6,limit=200,start='harry holding up a pasty go'))"
   ]
  },
  {
   "cell_type": "code",
   "execution_count": null,
   "id": "a9fdae64-c034-4f7e-b3f2-2071b761a493",
   "metadata": {},
   "outputs": [],
   "source": []
  }
 ],
 "metadata": {
  "kernelspec": {
   "display_name": "Python 3 (ipykernel)",
   "language": "python",
   "name": "python3"
  },
  "language_info": {
   "codemirror_mode": {
    "name": "ipython",
    "version": 3
   },
   "file_extension": ".py",
   "mimetype": "text/x-python",
   "name": "python",
   "nbconvert_exporter": "python",
   "pygments_lexer": "ipython3",
   "version": "3.11.5"
  }
 },
 "nbformat": 4,
 "nbformat_minor": 5
}
