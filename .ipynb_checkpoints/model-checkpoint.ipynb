{
 "cells": [
  {
   "cell_type": "code",
   "execution_count": 14,
   "id": "68ece020-51e9-493a-ace7-ef8294e1fd05",
   "metadata": {
    "tags": []
   },
   "outputs": [],
   "source": [
    "## importing dependencies\n",
    "import numpy as np\n",
    "import pandas as pd\n",
    "import os\n",
    "import string\n",
    "import re\n",
    "import random\n",
    "import nltk\n",
    "from nltk.tokenize import word_tokenize\n",
    "from nltk.corpus import stopwords\n",
    "\n"
   ]
  },
  {
   "cell_type": "code",
   "execution_count": 15,
   "id": "01e9c4c4-0555-4392-92bf-bd50efb10dab",
   "metadata": {
    "tags": []
   },
   "outputs": [
    {
     "name": "stderr",
     "output_type": "stream",
     "text": [
      "[nltk_data] Downloading package punkt to\n",
      "[nltk_data]     C:\\Users\\bagwe\\AppData\\Roaming\\nltk_data...\n",
      "[nltk_data]   Unzipping tokenizers\\punkt.zip.\n"
     ]
    },
    {
     "data": {
      "text/plain": [
       "True"
      ]
     },
     "execution_count": 15,
     "metadata": {},
     "output_type": "execute_result"
    }
   ],
   "source": [
    "nltk.download('punkt')"
   ]
  },
  {
   "cell_type": "markdown",
   "id": "065dd2cd-a321-473e-920f-eb496a39a6ef",
   "metadata": {},
   "source": [
    "##### Reading the dataset i.e collection of stories of harry potter in text file."
   ]
  },
  {
   "cell_type": "code",
   "execution_count": 16,
   "id": "dfad7d4c-f2fe-407d-9773-e26b3c38b8bb",
   "metadata": {
    "tags": []
   },
   "outputs": [],
   "source": [
    "current_dir=os.getcwd()\n",
    "dataset_path=os.path.join(current_dir,\"dataset\")\n",
    "\n",
    "def read_content(dataset_path,encoding='utf-8'):\n",
    "    txt=[]\n",
    "    for _,_,files in os.walk(dataset_path):\n",
    "        for file in files:\n",
    "            file_path=os.path.join(dataset_path,file)\n",
    "            with open(file_path,encoding=encoding) as f:\n",
    "                for line in f:\n",
    "                    line=line.strip()\n",
    "                    if line == '----------':\n",
    "                        break\n",
    "                    if line != '':\n",
    "                        txt.append(line)\n",
    "                        \n",
    "    return txt\n",
    "                \n",
    "        "
   ]
  },
  {
   "cell_type": "code",
   "execution_count": 17,
   "id": "e4ccfa3a-dba5-409c-bfca-95961b2f74db",
   "metadata": {
    "tags": []
   },
   "outputs": [
    {
     "name": "stdout",
     "output_type": "stream",
     "text": [
      "Total number of lines:  123353\n"
     ]
    }
   ],
   "source": [
    "total_content_lines=read_content(dataset_path)\n",
    "print(\"Total number of lines: \",len(total_content_lines))"
   ]
  },
  {
   "cell_type": "markdown",
   "id": "bb407140-be72-44a4-a4ae-38b4f280a7de",
   "metadata": {},
   "source": [
    "##### Defining a func to process a text before using markov chain on it."
   ]
  },
  {
   "cell_type": "code",
   "execution_count": 18,
   "id": "ea16c201-d1e5-4de2-bdf8-c50eb7fc2fb5",
   "metadata": {
    "tags": []
   },
   "outputs": [],
   "source": [
    "def process_text(txt):\n",
    "    processed_text=[]\n",
    "    for line in txt:\n",
    "        line=line.lower()\n",
    "        line = re.sub(r\"[,.\\\"\\'!@#$%^&*(){}?/;`~:<>+=-\\\\]\", \"\", line)   ## removing all the punctutaions.\n",
    "        words_list=word_tokenize(line)\n",
    "        words=[]\n",
    "        for word in words_list:\n",
    "            if word.isalpha():\n",
    "                words.append(word)\n",
    "        processed_text += words\n",
    "    return processed_text\n",
    "        \n",
    "        \n",
    "        "
   ]
  },
  {
   "cell_type": "code",
   "execution_count": 19,
   "id": "ee2d2f88-1d73-4dbb-8c75-7ded1f5c8ee4",
   "metadata": {
    "tags": []
   },
   "outputs": [
    {
     "name": "stdout",
     "output_type": "stream",
     "text": [
      "Total No of words:  1126958\n"
     ]
    }
   ],
   "source": [
    "words_list=process_text(total_content_lines)\n",
    "print(\"Total No of words: \",len(words_list))"
   ]
  },
  {
   "cell_type": "markdown",
   "id": "5cd9c4ec-378d-4df4-903f-2b3d23b1f66a",
   "metadata": {},
   "source": [
    "##### Creating markov model based on markov chain rule."
   ]
  },
  {
   "cell_type": "code",
   "execution_count": 31,
   "id": "0201403e-8e1e-41dd-b838-1ffff95cb6bb",
   "metadata": {
    "tags": []
   },
   "outputs": [],
   "source": [
    "def markov_model(words_list, order=2):\n",
    "    model = {}\n",
    "    for i in range(len(words_list) - order-1):\n",
    "        current_state = \"\"\n",
    "        next_state = \"\"\n",
    "        for j in range(order):\n",
    "            current_state += words_list[i + j] + \" \"\n",
    "            next_state += words_list[i + j + order] + \" \"\n",
    "        \n",
    "        current_state = current_state[:-1]\n",
    "        next_state = next_state[:-1]\n",
    "        \n",
    "        if current_state not in model:\n",
    "            model[current_state] = {}\n",
    "            model[current_state][next_state] = 1\n",
    "        else:\n",
    "            if next_state in model[current_state]:\n",
    "                model[current_state][next_state] += 1\n",
    "            else:\n",
    "                model[current_state][next_state] = 1\n",
    "    \n",
    "    for current_state, transition in model.items():\n",
    "        total = sum(transition.values())\n",
    "        for state, count in transition.items():\n",
    "            model[current_state][state] = count / total\n",
    "    \n",
    "    return model\n",
    "\n",
    "\n"
   ]
  },
  {
   "cell_type": "code",
   "execution_count": 32,
   "id": "f871f5f2-60a4-4edd-8fb4-8653fb6362ba",
   "metadata": {
    "tags": []
   },
   "outputs": [],
   "source": [
    "\n",
    "markov_chain = markov_model(words_list)"
   ]
  },
  {
   "cell_type": "code",
   "execution_count": 35,
   "id": "c40801d9-3fb7-4865-82aa-5ca1823cc906",
   "metadata": {
    "tags": []
   },
   "outputs": [
    {
     "name": "stdout",
     "output_type": "stream",
     "text": [
      "number of states =  323194\n"
     ]
    }
   ],
   "source": [
    "print(\"number of states = \", len(markov_chain.keys()))"
   ]
  },
  {
   "cell_type": "code",
   "execution_count": 37,
   "id": "65d53b16-ddde-4ce2-a14d-0e4a62bba383",
   "metadata": {
    "tags": []
   },
   "outputs": [
    {
     "name": "stdout",
     "output_type": "stream",
     "text": [
      "Combinations of words using  markov-chain relation\n",
      "{'when the': 0.03333333333333333, 'squinting about': 0.03333333333333333, 'but this': 0.03333333333333333, 'jerking and': 0.03333333333333333, 'ended in': 0.03333333333333333, 'before snape': 0.03333333333333333, 'like a': 0.03333333333333333, 'said you': 0.03333333333333333, 's over': 0.03333333333333333, 'was over': 0.03333333333333333, 'of chess': 0.03333333333333333, 'until he': 0.03333333333333333, 'the teams': 0.03333333333333333, 'and earned': 0.03333333333333333, 'he couldnt': 0.03333333333333333, 'out of': 0.03333333333333333, 'with malfoy': 0.03333333333333333, 'after a': 0.03333333333333333, 'was starting': 0.03333333333333333, 'recommenced immediately': 0.03333333333333333, 's in': 0.03333333333333333, 'quickly and': 0.03333333333333333, 'the following': 0.03333333333333333, 'is up': 0.03333333333333333, 'gone gryffindor': 0.03333333333333333, 'ginny where': 0.03333333333333333, 'was running': 0.03333333333333333, 'had become': 0.03333333333333333, 'was up': 0.03333333333333333, 'away however': 0.03333333333333333}\n"
     ]
    }
   ],
   "source": [
    "print(\"Combinations of words using  markov-chain relation\")\n",
    "print(markov_chain['the game'])"
   ]
  },
  {
   "cell_type": "code",
   "execution_count": 65,
   "id": "f756fdc8-005e-4e06-90c9-ff6c39ba0298",
   "metadata": {
    "tags": []
   },
   "outputs": [
    {
     "name": "stdout",
     "output_type": "stream",
     "text": [
      "Random 100 keys: ['fluffy yeah', 'piece eat', 'every thread', 'was removed', 'freeze where', 'fine son', 'its scaly', 'probably had', 'prepare such', 'came scurrying', 'shouts it', 's wooden', 'master voldemort', 'shoots were', 'brothers h', 'had bitten', 'hagrid firmly', 'and threw', 'after curse', 'trudged back', 'stood we', 'arrest within', 'really belting', 'sweltering hot', 'mark amos', 'go dewy', 'kill potter', 'instantly mr', 'eye sockets', 'of stopping', 'cho thought', 'castle again', 'whispered why', 'could end', 'mortlake was', 'ah wormtail', 'flat foot', 'snapped padma', 'control secrets', 'me closer', 'fall then', 'fresh flagon', 'pomfrey so', 'kreacher closed', 'ducked just', 'nigellus called', 'and secretive', 'said either', 'differed from', 'whiskers whose', 'seventeen professor', 'snape noticing', 'rebellious harry', 'yelp told', 'bruise already', 'we destroyed', 'de cologne', 'prophet big', 'on cried', 'not suggest', 'rowling serious', 'lupin wonderful', 'rejoin ron', 'eclairs is', 'stupid party', 'bait once', 'judge how', 'slightly put', 'he whom', 'now shunting', 'hippogriff would', 'filch they', 'amusing to', 'sudden unexpected', 'only realized', 'birthday ralph', 'excitement gripped', 'hermione bill', 'll choose', 'swept out', 'trees were', 'or our', 'of sleepiness', 'sideboard opening', 'cedric those', 'dreaming of', 'earth while', 'people yes', 'headfirst out', 'wand nothing', 'that georges', 'whirring and', 'was opening', 'harry breathed', 'george inside', 'starving for', 'students watching', 'weasley puzzled', 'never remember', 'perverse game']\n"
     ]
    }
   ],
   "source": [
    "random_keys = random.sample(list(markov_chain.keys()), 100)\n",
    "print(\"Random 100 keys:\", random_keys)\n"
   ]
  },
  {
   "cell_type": "code",
   "execution_count": 59,
   "id": "ed163b00-d638-469a-b100-ca9f564531f8",
   "metadata": {
    "tags": []
   },
   "outputs": [],
   "source": [
    "def get_story(markov_model,limit=150,start=\"international magical\"):\n",
    "    count=0\n",
    "    current_state=start\n",
    "    next_state=None\n",
    "    gen_story=\"\"\n",
    "    gen_story += current_state + \" \"\n",
    "    while count < limit:\n",
    "        next_state=random.choices(list(markov_chain[current_state].keys()),\n",
    "                                    list(markov_chain[current_state].values()))\n",
    "        current_state = next_state[0]\n",
    "        gen_story += current_state + \" \"\n",
    "        count+=1\n",
    "    return gen_story\n",
    "    "
   ]
  },
  {
   "cell_type": "code",
   "execution_count": 63,
   "id": "434105ec-9b2b-4003-8d49-b5750689f583",
   "metadata": {
    "tags": []
   },
   "outputs": [
    {
     "name": "stdout",
     "output_type": "stream",
     "text": [
      "international magical cooperation and magical games and sports there was something he s in charge here now and then raising bottles to guard his own precious soul you d know for sure said ron looking disappointed but i doubt anyone except you an he told us as much right to be proud though won t they the whole black family had been right in the eyes you have these harry s voice audible even above this was such that harry though shielded by his promise we ll never be lost for words despite his indignation at the position of his pawns chased off its square by ron s indignation on harry s disgusting slimy sock and stuffed the letter away again inside that cavernous room full of croaking bullfrogs and cawing ravens and with a nasty little laugh extremely dangerous a special case i really didnt want to tell me when you came in great rasps now harry ron and ginny skimming over the fire to harry s sense of security harry potter but winky does what she meant harry groped for the potion glowed a little brighter harry remained quite still pretending to be asleep dumbledore ignored him now but they get paid she said they get up to the light of the long circular conversations that followed p a g e harry potter and the chamber of secrets for hours mulling it all over the floor around it he couldn t do it tonight ron read the notice board upon which sure enough large white flakes had started to scribble skidding across the parchment attractive blonde rita skeeter have heard it somewhere for longbottom to find voldemort and harry heard many different inflections they were unable to wring any more school rules said dumbledore told you this was all a member of the da meetings and they would be able to follow school rules i expect did i said hermione and she unfurled the second message which was situated at the top of the death eater sharply he looked at him in his usual fashion whats that he would be spending the gold on the bedside cabinet and fixing the time of a wizard this scar that made him look he knows where it came it s somewhere abroad looking for gregorovitch it didn t just memorizing a bunch of surly security trolls had been hired to guard against and \n"
     ]
    }
   ],
   "source": [
    "print(get_story(markov_model,limit=200,start=\"international magical\"))"
   ]
  },
  {
   "cell_type": "code",
   "execution_count": 66,
   "id": "432a257d-f0e0-428c-becc-957267514be6",
   "metadata": {
    "tags": []
   },
   "outputs": [
    {
     "name": "stdout",
     "output_type": "stream",
     "text": [
      "harry breathed deeply for a few years older than you were when you fought off about a hundred yards of the place as she drifted off to take hagrid off to azkaban in fact creatures were cantering softly up and he must have seen her new wizarding neighbors she soon released him ron and ginny so how was practice asked hermione rather timidly is that your hot head might dominate your good health harry and he could not be long now it is late then though he sighed deeply well we hadn t locked the thing you dread him dying wasnt l oh said harry well i need to step inside and still professor mcgonagall didn t professor dumbledore wouldn t have been said hermione i haven t got agrippa or ptolemy harry unwrapped his chocolate wishing he could say another word as they marched off toward the window where half hidden in shadow wearing a strangely triumphant look what they did it the most horrible noise a yowling screeching scream keep back there this is it then we can t he been coming to judge that the chains snaked backward and forward to asking lupin have you said harry and they were all determinedly avoiding one another romilda vane p a g e harry potter and the kissing gate chapter bathilda was tottering around the class the day your dad said ginny slyly yes well he passed his magical eye as he would do better this time said voldemort s voice broke of course you will never understand him and he was glad to find the one he had to do to plan our next months adventure and i thought your family could sink no lower there was a popping noise then there s going up to accompany him on a clipboard you know what i can t see how eight people six large trunks stood open on the bench staring after her his yellow teeth bared its fairylike body covered with thick planks of wood roaring and snorting torrents of fire were heavier than ever harry might have some wolfish characteristics from now on dumbledore might not be here when they happen go home dear aunt elladora she started the family tradition decreed that the house and harry knew he must say i m talking about that one of them had a false impression said the elf shrilly gazing up at the dangling ron whose face was contorted with fury what do you think that dumbledore was getting better at herbology than she is still too young to come on i m not going to hogsmeade said harry hurriedly at a meaningful look at each other looking around with every step to above his station sir can t say i wish he was his mother and father and brother at the ministry in such a ridiculous position silently she handed to harry too he turned to the others was glad to see harry there was a third disappearance one which \n"
     ]
    }
   ],
   "source": [
    "print(get_story(markov_model,limit=250,start=\"harry breathed\"))"
   ]
  },
  {
   "cell_type": "code",
   "execution_count": 70,
   "id": "910c2889-810d-49e3-8691-86a48ed6fa44",
   "metadata": {
    "tags": []
   },
   "outputs": [
    {
     "name": "stdout",
     "output_type": "stream",
     "text": [
      "harry sickened by the whomping willow was planted because i told her and ron together hermione was acting through somebody else by a dark room whose windows were rattling in their frames but along what seemed to be coming from a locked door for a few months one summer when we but do you know i mean he s sensitive people bully him too he came back then and mind felt oddly disconnected now his limbs and followed professor lupin go the chance ter get rid of the fire ravenous they ate their lunch hour in the library staggering under the weight of the back of which broomstick the firebolts superbly smooth action its phenomenal acceleration and its rays mingled with the pair of double doors and along the passageway leading into the next day because every time was mentioned he supposed that he had lowered its mouth and belched flame again blasting the tapestry with a wand in one of her robes bulging when everyone had copied down their homework from the blackboard using defensive spells chapter twelve there was a flurry of snowflakes shortly followed by five injured two might ve killed about ninety so far would have recognized his writing at once anyway the book was screaming itself hoarse gryffindor was not daring to look in before breakfast every day eight s my wand hermione she was already wearing their quidditch robes and drawing out his wand at his feet but ron s room seemed to be on the chair beside harry she said you received an urgent owl from the minister of magic harry looked up hardly daring to believe he would say as mr weasley had banged his fist page harry potter and you should be in for the wizarding bank who are permitted to wear death eater robes when they arrived at our house i ll be seventeen for another moment anyway once you know how things were going he was obviously casting around for words dumbledore hummed a little flustered by this austere efficiency harry had better get off you stupid animal ron tried to get back what were you going to ask harry lay and listened to all of us only feel safe in here she ought not to speak to him to ron but ron simply bounded to his room so that harry found bleak and depressing he could only gaze up at him yeah but we re not far from relieving his anger he s really true they ve got to buy cat food from the castle doors with one hand and a gleaming scarlet steam engine or else greeting one another almost as though he was pretty bad while she was about to spill from it harry was shouting at someone who by an odd fringe of fine gold chain harry come here look properly either never notice nuffink they don t know what happened in the crowd around mr weasley s car and crushed it into the shade of their \n"
     ]
    }
   ],
   "source": [
    "print(get_story(markov_model,limit=250,start=\"harry sickened\"))"
   ]
  },
  {
   "cell_type": "code",
   "execution_count": null,
   "id": "1d8a28fa-4cca-4467-a12c-3cb32ff4baf9",
   "metadata": {},
   "outputs": [],
   "source": []
  }
 ],
 "metadata": {
  "kernelspec": {
   "display_name": "Python 3 (ipykernel)",
   "language": "python",
   "name": "python3"
  },
  "language_info": {
   "codemirror_mode": {
    "name": "ipython",
    "version": 3
   },
   "file_extension": ".py",
   "mimetype": "text/x-python",
   "name": "python",
   "nbconvert_exporter": "python",
   "pygments_lexer": "ipython3",
   "version": "3.11.5"
  }
 },
 "nbformat": 4,
 "nbformat_minor": 5
}
